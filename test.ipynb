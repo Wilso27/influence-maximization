{
 "cells": [
  {
   "cell_type": "code",
   "execution_count": 3,
   "outputs": [],
   "source": [
    "import alternatingStep_Wilson as alt\n",
    "import numpy as np\n",
    "import networkx as nx"
   ],
   "metadata": {
    "collapsed": false
   }
  },
  {
   "cell_type": "code",
   "execution_count": 71,
   "outputs": [
    {
     "name": "stdout",
     "output_type": "stream",
     "text": [
      "(1000, 6)\n",
      "[[5. 5. 5. 5. 5. 5.]\n",
      " [5. 5. 5. 5. 5. 5.]\n",
      " [5. 5. 5. 5. 5. 5.]\n",
      " ...\n",
      " [5. 5. 5. 5. 5. 5.]\n",
      " [5. 5. 5. 5. 5. 5.]\n",
      " [5. 5. 5. 5. 5. 5.]]\n"
     ]
    }
   ],
   "source": [
    "\n",
    "L = []\n",
    "n = 6\n",
    "c = 0\n",
    "for i in range(1000):\n",
    "    mat = alt.random_graph(n)\n",
    "    L.append(alt.alternating_step(graph_laplacian=mat, bd_matrix=np.zeros((n, 2)), bd_set=0)[2])\n",
    "\n",
    "L = np.sort(np.array(L))\n",
    "\n",
    "print(L.shape)\n",
    "print(L)\n",
    "\n",
    "\n",
    "\n",
    "# sorted_L = np.sort(np.array(L), axis=1)\n",
    "# print(sorted_L)\n",
    "# print(np.argsort(sorted_L[:,0]))\n",
    "# # print(sorted_L[np.argsort(sorted_L[:,2])])\n",
    "# print(sorted_L[np.argsort(sorted_L[:,0])])\n",
    "\n",
    "# sorted_L = np.sort(np.array(L), axis=0)\n",
    "# print(sorted_L)\n",
    "\n",
    "\n",
    "# sorted_L[:, 0]\n",
    "\n"
   ],
   "metadata": {
    "collapsed": false
   }
  },
  {
   "cell_type": "code",
   "execution_count": 72,
   "outputs": [],
   "source": [
    "def unique_check(arr1, arr2, tol=1e-08):\n",
    "    \"\"\"Check if two arrays are element-wise equal within a tolerance.\"\"\"\n",
    "    return np.alltrue(np.abs(arr1 - arr2) <= tol)\n",
    "\n",
    "\n",
    "def unique_close(arr, tol=1e-05, return_counts=False):\n",
    "    \"\"\"Find the unique rows in a numpy array within a tolerance.\n",
    "\n",
    "    Parameters\n",
    "    ----------\n",
    "    arr : numpy array\n",
    "        The array to find the unique rows of.\n",
    "    tol : float, optional\n",
    "        The tolerance within which two rows are considered equal. Default is 1e-05.\n",
    "    return_counts : bool, optional\n",
    "        If True, return the number of times each unique row appears in the array.\n",
    "        Default is False.\n",
    "\n",
    "    Returns\n",
    "    -------\n",
    "    unique_array : numpy array\n",
    "        The array of unique rows.\n",
    "    counts : numpy array\n",
    "        The number of times each unique row appears in the array. Only returned if\n",
    "        return_counts is True.\n",
    "    \"\"\"\n",
    "\n",
    "    # sort the array\n",
    "    arr = np.sort(arr, axis=1)\n",
    "\n",
    "    length = arr.shape[0]\n",
    "    arr_copy = arr.copy()\n",
    "    mask = np.ones(length) == 1\n",
    "\n",
    "    for i in range(length):\n",
    "        if mask[i]:  # if this row hasn't matched a previous row yet\n",
    "            for j in range(i+1, length):\n",
    "                if np.alltrue(np.abs(arr[i] - arr[j]) <= tol):  # if this row is the same as the next row\n",
    "                    mask[j] = False\n",
    "                    arr_copy[j] = arr_copy[i]  # make the close rows identical\n",
    "\n",
    "    # now that the close ones are equal, we can use np.unique\n",
    "    unique_array = np.unique(arr_copy, axis=0, return_counts=return_counts)\n",
    "\n",
    "    return unique_array\n"
   ],
   "metadata": {
    "collapsed": false
   }
  },
  {
   "cell_type": "code",
   "execution_count": 73,
   "outputs": [
    {
     "data": {
      "text/plain": "(array([[5., 5., 5., 5., 5., 5.]]), array([1000], dtype=int64))"
     },
     "execution_count": 73,
     "metadata": {},
     "output_type": "execute_result"
    }
   ],
   "source": [
    "unique_close(L, return_counts=True)"
   ],
   "metadata": {
    "collapsed": false
   }
  },
  {
   "cell_type": "markdown",
   "source": [
    "### Run through the algorithm for each n value"
   ],
   "metadata": {
    "collapsed": false
   }
  },
  {
   "cell_type": "code",
   "execution_count": 74,
   "outputs": [
    {
     "ename": "KeyboardInterrupt",
     "evalue": "",
     "output_type": "error",
     "traceback": [
      "\u001B[1;31m---------------------------------------------------------------------------\u001B[0m",
      "\u001B[1;31mKeyboardInterrupt\u001B[0m                         Traceback (most recent call last)",
      "Cell \u001B[1;32mIn[74], line 7\u001B[0m\n\u001B[0;32m      5\u001B[0m \u001B[38;5;28;01mfor\u001B[39;00m i \u001B[38;5;129;01min\u001B[39;00m \u001B[38;5;28mrange\u001B[39m(\u001B[38;5;241m100\u001B[39m):\n\u001B[0;32m      6\u001B[0m     mat \u001B[38;5;241m=\u001B[39m alt\u001B[38;5;241m.\u001B[39mrandom_graph(n)\n\u001B[1;32m----> 7\u001B[0m     L\u001B[38;5;241m.\u001B[39mappend(\u001B[43malt\u001B[49m\u001B[38;5;241;43m.\u001B[39;49m\u001B[43malternating_step\u001B[49m\u001B[43m(\u001B[49m\u001B[43mgraph_laplacian\u001B[49m\u001B[38;5;241;43m=\u001B[39;49m\u001B[43mmat\u001B[49m\u001B[43m,\u001B[49m\u001B[43m \u001B[49m\u001B[43mbd_matrix\u001B[49m\u001B[38;5;241;43m=\u001B[39;49m\u001B[43mnp\u001B[49m\u001B[38;5;241;43m.\u001B[39;49m\u001B[43mzeros\u001B[49m\u001B[43m(\u001B[49m\u001B[43m(\u001B[49m\u001B[43mn\u001B[49m\u001B[43m,\u001B[49m\u001B[43m \u001B[49m\u001B[38;5;241;43m2\u001B[39;49m\u001B[43m)\u001B[49m\u001B[43m)\u001B[49m\u001B[43m,\u001B[49m\u001B[43m \u001B[49m\u001B[43mbd_set\u001B[49m\u001B[38;5;241;43m=\u001B[39;49m\u001B[38;5;241;43m0\u001B[39;49m\u001B[43m)\u001B[49m[\u001B[38;5;241m2\u001B[39m])\n\u001B[0;32m      9\u001B[0m L \u001B[38;5;241m=\u001B[39m np\u001B[38;5;241m.\u001B[39msort(np\u001B[38;5;241m.\u001B[39marray(L))\n\u001B[0;32m     11\u001B[0m distribution\u001B[38;5;241m.\u001B[39mappend(unique_close(L, return_counts\u001B[38;5;241m=\u001B[39m\u001B[38;5;28;01mTrue\u001B[39;00m)[\u001B[38;5;241m1\u001B[39m])\n",
      "File \u001B[1;32m~\\Documents\\Research Dr Boyd\\alternatingStep_Wilson.py:86\u001B[0m, in \u001B[0;36malternating_step\u001B[1;34m(graph_laplacian, bd_matrix, bd_set)\u001B[0m\n\u001B[0;32m     83\u001B[0m     bd_set_nodes_temp[i] \u001B[38;5;241m=\u001B[39m \u001B[38;5;241m1\u001B[39m\n\u001B[0;32m     85\u001B[0m     \u001B[38;5;66;03m# Calculate the influence using least squares to solve the linear system\u001B[39;00m\n\u001B[1;32m---> 86\u001B[0m     influence \u001B[38;5;241m=\u001B[39m \u001B[43mnp\u001B[49m\u001B[38;5;241;43m.\u001B[39;49m\u001B[43mappend\u001B[49m\u001B[43m(\u001B[49m\u001B[43minfluence\u001B[49m\u001B[43m,\u001B[49m\u001B[43m \u001B[49m\u001B[43mnp\u001B[49m\u001B[38;5;241;43m.\u001B[39;49m\u001B[43mlinalg\u001B[49m\u001B[38;5;241;43m.\u001B[39;49m\u001B[43mlstsq\u001B[49m\u001B[43m(\u001B[49m\u001B[43mlsc\u001B[49m\u001B[43m,\u001B[49m\n\u001B[0;32m     87\u001B[0m \u001B[43m                                                     \u001B[49m\u001B[38;5;241;43m-\u001B[39;49m\u001B[43mb\u001B[49m\u001B[43m[\u001B[49m\u001B[43m:\u001B[49m\u001B[43m,\u001B[49m\u001B[43m \u001B[49m\u001B[43mbd_set_nodes_temp\u001B[49m\u001B[43m[\u001B[49m\u001B[43mbd_update\u001B[49m\u001B[43m]\u001B[49m\u001B[38;5;241;43m.\u001B[39;49m\u001B[43mastype\u001B[49m\u001B[43m(\u001B[49m\u001B[38;5;28;43mbool\u001B[39;49m\u001B[43m)\u001B[49m\u001B[43m]\u001B[49m\u001B[43m,\u001B[49m\n\u001B[0;32m     88\u001B[0m \u001B[43m                                                     \u001B[49m\u001B[43mrcond\u001B[49m\u001B[38;5;241;43m=\u001B[39;49m\u001B[38;5;28;43;01mNone\u001B[39;49;00m\u001B[43m)\u001B[49m\u001B[43m[\u001B[49m\u001B[38;5;241;43m0\u001B[39;49m\u001B[43m]\u001B[49m\u001B[38;5;241;43m.\u001B[39;49m\u001B[43msum\u001B[49m\u001B[43m(\u001B[49m\u001B[43m)\u001B[49m\u001B[43m)\u001B[49m\n\u001B[0;32m     90\u001B[0m \u001B[38;5;66;03m# Find the node with the maximum influence\u001B[39;00m\n\u001B[0;32m     91\u001B[0m max_node \u001B[38;5;241m=\u001B[39m remaining_nodes[np\u001B[38;5;241m.\u001B[39margmax(influence)]\n",
      "File \u001B[1;32m<__array_function__ internals>:180\u001B[0m, in \u001B[0;36mappend\u001B[1;34m(*args, **kwargs)\u001B[0m\n",
      "File \u001B[1;32m~\\AppData\\Local\\Programs\\Python\\Python310\\lib\\site-packages\\numpy\\lib\\function_base.py:5444\u001B[0m, in \u001B[0;36mappend\u001B[1;34m(arr, values, axis)\u001B[0m\n\u001B[0;32m   5442\u001B[0m     values \u001B[38;5;241m=\u001B[39m ravel(values)\n\u001B[0;32m   5443\u001B[0m     axis \u001B[38;5;241m=\u001B[39m arr\u001B[38;5;241m.\u001B[39mndim\u001B[38;5;241m-\u001B[39m\u001B[38;5;241m1\u001B[39m\n\u001B[1;32m-> 5444\u001B[0m \u001B[38;5;28;01mreturn\u001B[39;00m \u001B[43mconcatenate\u001B[49m\u001B[43m(\u001B[49m\u001B[43m(\u001B[49m\u001B[43marr\u001B[49m\u001B[43m,\u001B[49m\u001B[43m \u001B[49m\u001B[43mvalues\u001B[49m\u001B[43m)\u001B[49m\u001B[43m,\u001B[49m\u001B[43m \u001B[49m\u001B[43maxis\u001B[49m\u001B[38;5;241;43m=\u001B[39;49m\u001B[43maxis\u001B[49m\u001B[43m)\u001B[49m\n",
      "File \u001B[1;32m<__array_function__ internals>:180\u001B[0m, in \u001B[0;36mconcatenate\u001B[1;34m(*args, **kwargs)\u001B[0m\n",
      "\u001B[1;31mKeyboardInterrupt\u001B[0m: "
     ]
    }
   ],
   "source": [
    "number_of_unique = []\n",
    "distribution = []\n",
    "for n in range(10, 100):\n",
    "    L = []\n",
    "    for i in range(100):\n",
    "        mat = alt.random_graph(n)\n",
    "        L.append(alt.alternating_step(graph_laplacian=mat, bd_matrix=np.zeros((n, 2)), bd_set=0)[2])\n",
    "\n",
    "    L = np.sort(np.array(L))\n",
    "\n",
    "    distribution.append(unique_close(L, return_counts=True)[1])\n",
    "    number_of_unique.append(unique_close(L, return_counts=True)[0].shape[0])\n"
   ],
   "metadata": {
    "collapsed": false
   }
  },
  {
   "cell_type": "code",
   "execution_count": 151,
   "outputs": [
    {
     "data": {
      "text/plain": "[array([16,  2,  1, 81], dtype=int64),\n array([ 1,  4,  4,  1, 90], dtype=int64),\n array([ 4, 96], dtype=int64),\n array([ 3,  1,  1, 95], dtype=int64),\n array([ 1, 99], dtype=int64),\n array([ 1, 99], dtype=int64),\n array([ 2, 98], dtype=int64),\n array([ 1, 99], dtype=int64),\n array([100], dtype=int64),\n array([100], dtype=int64),\n array([ 3, 97], dtype=int64),\n array([100], dtype=int64),\n array([ 1, 99], dtype=int64),\n array([100], dtype=int64),\n array([100], dtype=int64),\n array([100], dtype=int64),\n array([100], dtype=int64),\n array([100], dtype=int64),\n array([100], dtype=int64),\n array([100], dtype=int64),\n array([100], dtype=int64),\n array([100], dtype=int64),\n array([100], dtype=int64),\n array([100], dtype=int64),\n array([100], dtype=int64),\n array([100], dtype=int64),\n array([100], dtype=int64),\n array([100], dtype=int64),\n array([100], dtype=int64),\n array([100], dtype=int64),\n array([100], dtype=int64),\n array([100], dtype=int64),\n array([100], dtype=int64),\n array([100], dtype=int64),\n array([100], dtype=int64),\n array([100], dtype=int64),\n array([100], dtype=int64),\n array([100], dtype=int64),\n array([100], dtype=int64),\n array([100], dtype=int64),\n array([100], dtype=int64),\n array([100], dtype=int64),\n array([100], dtype=int64),\n array([100], dtype=int64),\n array([100], dtype=int64),\n array([100], dtype=int64),\n array([100], dtype=int64),\n array([100], dtype=int64),\n array([100], dtype=int64),\n array([100], dtype=int64),\n array([100], dtype=int64),\n array([100], dtype=int64),\n array([100], dtype=int64),\n array([100], dtype=int64),\n array([100], dtype=int64),\n array([100], dtype=int64),\n array([100], dtype=int64),\n array([100], dtype=int64),\n array([100], dtype=int64),\n array([100], dtype=int64),\n array([100], dtype=int64),\n array([100], dtype=int64),\n array([100], dtype=int64),\n array([100], dtype=int64),\n array([100], dtype=int64),\n array([100], dtype=int64),\n array([100], dtype=int64),\n array([100], dtype=int64),\n array([100], dtype=int64),\n array([100], dtype=int64),\n array([100], dtype=int64),\n array([100], dtype=int64),\n array([100], dtype=int64),\n array([100], dtype=int64),\n array([100], dtype=int64),\n array([100], dtype=int64),\n array([100], dtype=int64),\n array([100], dtype=int64),\n array([100], dtype=int64),\n array([100], dtype=int64),\n array([100], dtype=int64),\n array([100], dtype=int64),\n array([100], dtype=int64),\n array([100], dtype=int64),\n array([100], dtype=int64),\n array([100], dtype=int64),\n array([100], dtype=int64),\n array([100], dtype=int64),\n array([100], dtype=int64),\n array([100], dtype=int64)]"
     },
     "execution_count": 151,
     "metadata": {},
     "output_type": "execute_result"
    }
   ],
   "source": [
    "distribution"
   ],
   "metadata": {
    "collapsed": false
   }
  },
  {
   "cell_type": "code",
   "execution_count": 152,
   "outputs": [
    {
     "data": {
      "text/plain": "[4,\n 5,\n 2,\n 4,\n 2,\n 2,\n 2,\n 2,\n 1,\n 1,\n 2,\n 1,\n 2,\n 1,\n 1,\n 1,\n 1,\n 1,\n 1,\n 1,\n 1,\n 1,\n 1,\n 1,\n 1,\n 1,\n 1,\n 1,\n 1,\n 1,\n 1,\n 1,\n 1,\n 1,\n 1,\n 1,\n 1,\n 1,\n 1,\n 1,\n 1,\n 1,\n 1,\n 1,\n 1,\n 1,\n 1,\n 1,\n 1,\n 1,\n 1,\n 1,\n 1,\n 1,\n 1,\n 1,\n 1,\n 1,\n 1,\n 1,\n 1,\n 1,\n 1,\n 1,\n 1,\n 1,\n 1,\n 1,\n 1,\n 1,\n 1,\n 1,\n 1,\n 1,\n 1,\n 1,\n 1,\n 1,\n 1,\n 1,\n 1,\n 1,\n 1,\n 1,\n 1,\n 1,\n 1,\n 1,\n 1,\n 1]"
     },
     "execution_count": 152,
     "metadata": {},
     "output_type": "execute_result"
    }
   ],
   "source": [
    "number_of_unique"
   ],
   "metadata": {
    "collapsed": false
   }
  },
  {
   "cell_type": "markdown",
   "source": [
    "### distribution and number of unique for n=2, 3, 4, 5, 6, 7"
   ],
   "metadata": {
    "collapsed": false
   }
  },
  {
   "cell_type": "code",
   "execution_count": 140,
   "outputs": [
    {
     "data": {
      "text/plain": "[array([100000], dtype=int64),\n array([100000], dtype=int64),\n array([29260, 70740], dtype=int64),\n array([30549, 69451], dtype=int64),\n array([ 2672, 20083,  6810, 70435], dtype=int64),\n array([14607,  3126,  7937, 74330], dtype=int64)]"
     },
     "execution_count": 140,
     "metadata": {},
     "output_type": "execute_result"
    }
   ],
   "source": [
    "distribution"
   ],
   "metadata": {
    "collapsed": false
   }
  },
  {
   "cell_type": "code",
   "execution_count": 141,
   "outputs": [
    {
     "data": {
      "text/plain": "[1, 1, 2, 2, 4, 4]"
     },
     "execution_count": 141,
     "metadata": {},
     "output_type": "execute_result"
    }
   ],
   "source": [
    "number_of_unique"
   ],
   "metadata": {
    "collapsed": false
   }
  },
  {
   "cell_type": "markdown",
   "source": [
    "### distribution and number of unique for n=8, 9"
   ],
   "metadata": {
    "collapsed": false
   }
  },
  {
   "cell_type": "code",
   "execution_count": 137,
   "outputs": [
    {
     "data": {
      "text/plain": "[array([  114,  1623, 11251,  1089,  4916,  1936, 79071], dtype=int64),\n array([  121,   975,   875,  8775,  3223,   106,  2098, 83827],\n       dtype=int64)]"
     },
     "execution_count": 137,
     "metadata": {},
     "output_type": "execute_result"
    }
   ],
   "source": [
    "distribution"
   ],
   "metadata": {
    "collapsed": false
   }
  },
  {
   "cell_type": "code",
   "execution_count": 138,
   "outputs": [
    {
     "data": {
      "text/plain": "[7, 8]"
     },
     "execution_count": 138,
     "metadata": {},
     "output_type": "execute_result"
    }
   ],
   "source": [
    "number_of_unique"
   ],
   "metadata": {
    "collapsed": false
   }
  },
  {
   "cell_type": "code",
   "execution_count": 121,
   "outputs": [
    {
     "name": "stdout",
     "output_type": "stream",
     "text": [
      "[[ 1  0  0 -1]\n",
      " [ 0  1 -1  0]\n",
      " [ 0 -1  2 -1]\n",
      " [-1  0 -1  2]]\n",
      "[array([3., 3., 3., 3.])]\n"
     ]
    }
   ],
   "source": [
    "z = []\n",
    "n = 4\n",
    "mat = alt.random_graph(n)\n",
    "\n",
    "print(mat)\n",
    "z.append(alt.alternating_step(graph_laplacian=mat, bd_matrix=np.zeros((n, 2)), bd_set=0)[2])\n",
    "print(z)"
   ],
   "metadata": {
    "collapsed": false
   }
  },
  {
   "cell_type": "code",
   "execution_count": 75,
   "outputs": [
    {
     "name": "stdout",
     "output_type": "stream",
     "text": [
      "1000\n",
      "38\n",
      "[[[ 1 -1  0  0]\n",
      "  [-1  2 -1  0]\n",
      "  [ 0 -1  2 -1]\n",
      "  [ 0  0 -1  1]]\n",
      "\n",
      " [[ 1 -1  0  0]\n",
      "  [-1  2  0 -1]\n",
      "  [ 0  0  1 -1]\n",
      "  [ 0 -1 -1  2]]\n",
      "\n",
      " [[ 1 -1  0  0]\n",
      "  [-1  3 -1 -1]\n",
      "  [ 0 -1  1  0]\n",
      "  [ 0 -1  0  1]]\n",
      "\n",
      " [[ 1 -1  0  0]\n",
      "  [-1  3 -1 -1]\n",
      "  [ 0 -1  2 -1]\n",
      "  [ 0 -1 -1  2]]\n",
      "\n",
      " [[ 1  0 -1  0]\n",
      "  [ 0  1 -1  0]\n",
      "  [-1 -1  3 -1]\n",
      "  [ 0  0 -1  1]]\n",
      "\n",
      " [[ 1  0 -1  0]\n",
      "  [ 0  1  0 -1]\n",
      "  [-1  0  2 -1]\n",
      "  [ 0 -1 -1  2]]\n",
      "\n",
      " [[ 1  0 -1  0]\n",
      "  [ 0  2 -1 -1]\n",
      "  [-1 -1  2  0]\n",
      "  [ 0 -1  0  1]]\n",
      "\n",
      " [[ 1  0 -1  0]\n",
      "  [ 0  2 -1 -1]\n",
      "  [-1 -1  3 -1]\n",
      "  [ 0 -1 -1  2]]\n",
      "\n",
      " [[ 1  0  0 -1]\n",
      "  [ 0  1 -1  0]\n",
      "  [ 0 -1  2 -1]\n",
      "  [-1  0 -1  2]]\n",
      "\n",
      " [[ 1  0  0 -1]\n",
      "  [ 0  1  0 -1]\n",
      "  [ 0  0  1 -1]\n",
      "  [-1 -1 -1  3]]\n",
      "\n",
      " [[ 1  0  0 -1]\n",
      "  [ 0  2 -1 -1]\n",
      "  [ 0 -1  1  0]\n",
      "  [-1 -1  0  2]]\n",
      "\n",
      " [[ 1  0  0 -1]\n",
      "  [ 0  2 -1 -1]\n",
      "  [ 0 -1  2 -1]\n",
      "  [-1 -1 -1  3]]\n",
      "\n",
      " [[ 2 -1 -1  0]\n",
      "  [-1  1  0  0]\n",
      "  [-1  0  2 -1]\n",
      "  [ 0  0 -1  1]]\n",
      "\n",
      " [[ 2 -1 -1  0]\n",
      "  [-1  2 -1  0]\n",
      "  [-1 -1  3 -1]\n",
      "  [ 0  0 -1  1]]\n",
      "\n",
      " [[ 2 -1 -1  0]\n",
      "  [-1  2  0 -1]\n",
      "  [-1  0  1  0]\n",
      "  [ 0 -1  0  1]]\n",
      "\n",
      " [[ 2 -1 -1  0]\n",
      "  [-1  2  0 -1]\n",
      "  [-1  0  2 -1]\n",
      "  [ 0 -1 -1  2]]\n",
      "\n",
      " [[ 2 -1 -1  0]\n",
      "  [-1  3 -1 -1]\n",
      "  [-1 -1  2  0]\n",
      "  [ 0 -1  0  1]]\n",
      "\n",
      " [[ 2 -1 -1  0]\n",
      "  [-1  3 -1 -1]\n",
      "  [-1 -1  3 -1]\n",
      "  [ 0 -1 -1  2]]\n",
      "\n",
      " [[ 2 -1  0 -1]\n",
      "  [-1  1  0  0]\n",
      "  [ 0  0  1 -1]\n",
      "  [-1  0 -1  2]]\n",
      "\n",
      " [[ 2 -1  0 -1]\n",
      "  [-1  2 -1  0]\n",
      "  [ 0 -1  1  0]\n",
      "  [-1  0  0  1]]\n",
      "\n",
      " [[ 2 -1  0 -1]\n",
      "  [-1  2 -1  0]\n",
      "  [ 0 -1  2 -1]\n",
      "  [-1  0 -1  2]]\n",
      "\n",
      " [[ 2 -1  0 -1]\n",
      "  [-1  2  0 -1]\n",
      "  [ 0  0  1 -1]\n",
      "  [-1 -1 -1  3]]\n",
      "\n",
      " [[ 2 -1  0 -1]\n",
      "  [-1  3 -1 -1]\n",
      "  [ 0 -1  1  0]\n",
      "  [-1 -1  0  2]]\n",
      "\n",
      " [[ 2 -1  0 -1]\n",
      "  [-1  3 -1 -1]\n",
      "  [ 0 -1  2 -1]\n",
      "  [-1 -1 -1  3]]\n",
      "\n",
      " [[ 2  0 -1 -1]\n",
      "  [ 0  1 -1  0]\n",
      "  [-1 -1  2  0]\n",
      "  [-1  0  0  1]]\n",
      "\n",
      " [[ 2  0 -1 -1]\n",
      "  [ 0  1 -1  0]\n",
      "  [-1 -1  3 -1]\n",
      "  [-1  0 -1  2]]\n",
      "\n",
      " [[ 2  0 -1 -1]\n",
      "  [ 0  1  0 -1]\n",
      "  [-1  0  1  0]\n",
      "  [-1 -1  0  2]]\n",
      "\n",
      " [[ 2  0 -1 -1]\n",
      "  [ 0  1  0 -1]\n",
      "  [-1  0  2 -1]\n",
      "  [-1 -1 -1  3]]\n",
      "\n",
      " [[ 2  0 -1 -1]\n",
      "  [ 0  2 -1 -1]\n",
      "  [-1 -1  2  0]\n",
      "  [-1 -1  0  2]]\n",
      "\n",
      " [[ 2  0 -1 -1]\n",
      "  [ 0  2 -1 -1]\n",
      "  [-1 -1  3 -1]\n",
      "  [-1 -1 -1  3]]\n",
      "\n",
      " [[ 3 -1 -1 -1]\n",
      "  [-1  1  0  0]\n",
      "  [-1  0  1  0]\n",
      "  [-1  0  0  1]]\n",
      "\n",
      " [[ 3 -1 -1 -1]\n",
      "  [-1  1  0  0]\n",
      "  [-1  0  2 -1]\n",
      "  [-1  0 -1  2]]\n",
      "\n",
      " [[ 3 -1 -1 -1]\n",
      "  [-1  2 -1  0]\n",
      "  [-1 -1  2  0]\n",
      "  [-1  0  0  1]]\n",
      "\n",
      " [[ 3 -1 -1 -1]\n",
      "  [-1  2 -1  0]\n",
      "  [-1 -1  3 -1]\n",
      "  [-1  0 -1  2]]\n",
      "\n",
      " [[ 3 -1 -1 -1]\n",
      "  [-1  2  0 -1]\n",
      "  [-1  0  1  0]\n",
      "  [-1 -1  0  2]]\n",
      "\n",
      " [[ 3 -1 -1 -1]\n",
      "  [-1  2  0 -1]\n",
      "  [-1  0  2 -1]\n",
      "  [-1 -1 -1  3]]\n",
      "\n",
      " [[ 3 -1 -1 -1]\n",
      "  [-1  3 -1 -1]\n",
      "  [-1 -1  2  0]\n",
      "  [-1 -1  0  2]]\n",
      "\n",
      " [[ 3 -1 -1 -1]\n",
      "  [-1  3 -1 -1]\n",
      "  [-1 -1  3 -1]\n",
      "  [-1 -1 -1  3]]]\n"
     ]
    }
   ],
   "source": [
    "M = []\n",
    "n = 4\n",
    "for i in range(1000):\n",
    "    mat = alt.random_graph(n)\n",
    "    M.append(mat)\n",
    "M = np.array(M)\n",
    "# print(M)\n",
    "print(M.shape[0])\n",
    "print(np.unique(M, axis=0).shape[0])\n",
    "print(np.unique(M, axis=0))"
   ],
   "metadata": {
    "collapsed": false
   }
  },
  {
   "cell_type": "code",
   "execution_count": 190,
   "outputs": [
    {
     "name": "stdout",
     "output_type": "stream",
     "text": [
      "[2. 0. 2. 0.]\n",
      "[3.41421356e+00 2.00000000e+00 6.21107307e-17 5.85786438e-01]\n"
     ]
    }
   ],
   "source": [
    "Mu = np.unique(M, axis=0)\n",
    "# print(Mu[0])\n",
    "print(np.linalg.eig(Mu[0])[0])\n",
    "print(np.linalg.eig(Mu[1])[0])\n",
    "def component_number(m, tol=1e-08):\n",
    "    eigvals = np.linalg.eig(m)[0]\n",
    "    return m.shape[0] - np.sum(np.abs(eigvals) > tol)\n"
   ],
   "metadata": {
    "collapsed": false
   }
  },
  {
   "cell_type": "code",
   "execution_count": 209,
   "outputs": [
    {
     "name": "stdout",
     "output_type": "stream",
     "text": [
      "114 µs ± 5.6 µs per loop (mean ± std. dev. of 7 runs, 10,000 loops each)\n"
     ]
    }
   ],
   "source": [
    "%timeit m_ = alt.random_graph(100)\n",
    "# %timeit component_number(m_)\n",
    "\n",
    "# random_graph(10)\n",
    "# 59.9 micros for n=10\n",
    "# 114 micros for n=100\n",
    "\n",
    "# 0, 6, 10\n",
    "# 15.1 micros for n=4\n",
    "# 27.3 micros for n=10\n",
    "# 67.1 micros for n=20\n",
    "# 8.79 ms for n=100"
   ],
   "metadata": {
    "collapsed": false
   }
  },
  {
   "cell_type": "markdown",
   "source": [
    "nodes, unique graph laplacians possible, unique influence distributions\n",
    "2, 1, 1\n",
    "3, 4, 1\n",
    "4, 41, 2\n",
    "5, 768, 2\n",
    "6, 27114, 4\n",
    "7, ?, 4\n",
    "8, ?, 7\n",
    "9, ?, 8"
   ],
   "metadata": {
    "collapsed": false
   }
  },
  {
   "cell_type": "markdown",
   "source": [
    "# Testing Optimality of Result"
   ],
   "metadata": {
    "collapsed": false
   }
  },
  {
   "cell_type": "markdown",
   "source": [
    "The 4x4 case"
   ],
   "metadata": {
    "collapsed": false
   }
  },
  {
   "cell_type": "code",
   "execution_count": 7,
   "outputs": [
    {
     "name": "stdout",
     "output_type": "stream",
     "text": [
      "0\n"
     ]
    }
   ],
   "source": [
    "remaining_nodes = np.arange(n)\n",
    "node_selected = input(f\"Select a node {remaining_nodes}\")\n",
    "print(node_selected)\n",
    "if float(node_selected) not in remaining_nodes:\n",
    "    print(\"Invalid node\")\n",
    "\n",
    "print(remaining_nodes)"
   ],
   "metadata": {
    "collapsed": false
   }
  },
  {
   "cell_type": "code",
   "execution_count": 54,
   "outputs": [
    {
     "name": "stdout",
     "output_type": "stream",
     "text": [
      "[[1. 0.]\n",
      " [1. 0.]\n",
      " [0. 1.]\n",
      " [0. 0.]]\n",
      "[1. 1. 1. 0.]\n",
      "[0 1 2 3]\n",
      "[0 1 2]\n"
     ]
    },
    {
     "data": {
      "text/plain": "array([0, 1, 2])"
     },
     "execution_count": 54,
     "metadata": {},
     "output_type": "execute_result"
    }
   ],
   "source": [
    "remaining_nodes = np.arange(n)\n",
    "matiboi = np.zeros((n, 2))\n",
    "matiboi[0][0] = 1\n",
    "matiboi[1][0] = 1\n",
    "matiboi[2][1] = 1\n",
    "print(matiboi)\n",
    "print(matiboi[:].sum(axis=1))\n",
    "print(remaining_nodes)\n",
    "print(remaining_nodes[matiboi.sum(axis=1) == 0])\n",
    "remaining_nodes[(matiboi[:].sum(axis=1) == 1)]"
   ],
   "metadata": {
    "collapsed": false
   }
  },
  {
   "cell_type": "markdown",
   "source": [
    "# The Game:"
   ],
   "metadata": {
    "collapsed": false
   }
  },
  {
   "cell_type": "code",
   "execution_count": 3,
   "outputs": [
    {
     "name": "stdout",
     "output_type": "stream",
     "text": [
      "[[ 2 -1 -1  0  0  0  0]\n",
      " [-1  3  0  0  0 -1 -1]\n",
      " [-1  0  1  0  0  0  0]\n",
      " [ 0  0  0  1 -1  0  0]\n",
      " [ 0  0  0 -1  2  0 -1]\n",
      " [ 0 -1  0  0  0  1  0]\n",
      " [ 0 -1  0  0 -1  0  2]]\n"
     ]
    }
   ],
   "source": [
    "# Set up the graph\n",
    "n = 7\n",
    "mat = alt.random_graph(n)\n",
    "print(mat)"
   ],
   "metadata": {
    "collapsed": false
   }
  },
  {
   "cell_type": "code",
   "execution_count": 3,
   "outputs": [],
   "source": [
    "# 7x7 graph laplacian where the nodes are in a row\n",
    "n = 7\n",
    "ex6 = np.array([[1, -1, 0, 0, 0, 0, 0],\n",
    "                [-1, 2, -1, 0, 0, 0, 0],\n",
    "                [0, -1, 2, -1, 0, 0, 0],\n",
    "                [0, 0, -1, 2, -1, 0, 0],\n",
    "                [0, 0, 0, -1, 2, -1, 0],\n",
    "                [0, 0, 0, 0, -1, 2, -1],\n",
    "                [0, 0, 0, 0, 0, -1, 1]])\n",
    "mat = ex6"
   ],
   "metadata": {
    "collapsed": false
   }
  },
  {
   "cell_type": "code",
   "execution_count": 8,
   "outputs": [
    {
     "name": "stdout",
     "output_type": "stream",
     "text": [
      "You selected 2 which brings the score to\n",
      " You: 7.0 \n",
      " Greedy: 0.0\n",
      "Greedy selected 3 which brings the score to\n",
      " You: 3.0 \n",
      " Greedy: 4.0\n",
      "You selected 4 which brings the score to\n",
      " You: 6.0 \n",
      " Greedy: 1.0\n",
      "Greedy selected 1 which brings the score to\n",
      " You: 4.0 \n",
      " Greedy: 3.0\n"
     ]
    }
   ],
   "source": [
    "bd_matrix = np.zeros((n, 2))\n",
    "remaining_nodes = np.arange(n)\n",
    "nodes = np.arange(n)\n",
    "node_selected = -1\n",
    "for i in range(4):\n",
    "    if i % 2 == 0: # Your turn\n",
    "        while float(node_selected) not in remaining_nodes:\n",
    "            node_selected = input(f\"Select a node {remaining_nodes}\")\n",
    "        bd_matrix, max_node, total_influence, influence_val = alt.alternating_step_2(graph_laplacian=mat, bd_matrix=bd_matrix, bd_set=0, node_to_add=int(node_selected))\n",
    "\n",
    "        print(f\"You selected {max_node} which brings the score to\\n \"\n",
    "              f\"You: {influence_val + 1 + i // 2} \\n \"\n",
    "              f\"Greedy: {n - (influence_val + 1 + i // 2)}\")\n",
    "\n",
    "\n",
    "    else:  # Greedy turn\n",
    "        bd_matrix, max_node, total_influence, influence_val = alt.alternating_step_2(graph_laplacian=mat, bd_matrix=bd_matrix, bd_set=1)\n",
    "        print(f\"Greedy selected {max_node} which brings the score to\\n \"\n",
    "              f\"You: {n - (influence_val + 1 + i // 2)} \\n \"\n",
    "              f\"Greedy: {influence_val + 1 + i // 2}\")\n",
    "\n",
    "    remaining_nodes = nodes[bd_matrix.sum(axis=1) == 0]\n",
    "\n"
   ],
   "metadata": {
    "collapsed": false
   }
  },
  {
   "cell_type": "code",
   "execution_count": 4,
   "outputs": [
    {
     "name": "stdout",
     "output_type": "stream",
     "text": [
      "(array([[0., 0.],\n",
      "       [0., 0.],\n",
      "       [0., 0.],\n",
      "       [1., 0.],\n",
      "       [0., 0.],\n",
      "       [0., 0.],\n",
      "       [0., 0.]]), 3, array([6., 6., 6., 6., 6., 6.]), array([[1., 1., 1., 1., 1., 1.],\n",
      "       [1., 1., 1., 1., 1., 1.],\n",
      "       [1., 1., 1., 1., 1., 1.],\n",
      "       [1., 1., 1., 1., 1., 1.],\n",
      "       [1., 1., 1., 1., 1., 1.],\n",
      "       [1., 1., 1., 1., 1., 1.],\n",
      "       [1., 1., 1., 1., 1., 1.]]))\n"
     ]
    }
   ],
   "source": [
    "bd_matrix = np.zeros((n, 2))\n",
    "print(alt.alternating_step_2(graph_laplacian=mat, bd_matrix=bd_matrix, bd_set=0))"
   ],
   "metadata": {
    "collapsed": false
   }
  },
  {
   "cell_type": "code",
   "execution_count": 63,
   "outputs": [
    {
     "name": "stdout",
     "output_type": "stream",
     "text": [
      "[[1. 0.]\n",
      " [0. 0.]\n",
      " [1. 0.]\n",
      " [0. 0.]\n",
      " [0. 0.]\n",
      " [0. 1.]\n",
      " [0. 1.]]\n"
     ]
    }
   ],
   "source": [
    "print(bd_matrix)"
   ],
   "metadata": {
    "collapsed": false
   }
  },
  {
   "cell_type": "code",
   "execution_count": 10,
   "outputs": [
    {
     "name": "stdout",
     "output_type": "stream",
     "text": [
      "[ 0  3  6  9 12 15 18]\n",
      "2\n"
     ]
    }
   ],
   "source": [
    "remaining_nodes = np.arange(0, 20, 3)\n",
    "print(remaining_nodes)\n",
    "print(np.argwhere(remaining_nodes == 6)[0][0])"
   ],
   "metadata": {
    "collapsed": false
   }
  },
  {
   "cell_type": "code",
   "execution_count": 60,
   "outputs": [
    {
     "name": "stdout",
     "output_type": "stream",
     "text": [
      "Graph with 7 nodes and 6 edges\n"
     ]
    },
    {
     "data": {
      "text/plain": "<Figure size 640x480 with 1 Axes>",
      "image/png": "[encoded data removed]"
     },
     "metadata": {},
     "output_type": "display_data"
    }
   ],
   "source": [
    "import networkx as nx\n",
    "import matplotlib.pyplot as plt\n",
    "\n",
    "# Create a network\n",
    "G = nx.Graph()\n",
    "G.add_edges_from([(1, 2), (1, 3), (2, 3), (3, 4), (4, 5), (4, 6)])\n",
    "\n",
    "# Draw the network\n",
    "# nx.draw(G, with_labels=True)\n",
    "\n",
    "mat = -np.array([[0, -1, 0, 0, 0, 0, 0],\n",
    "                [-1, 0, -1, 0, 0, 0, 0],\n",
    "                [0, -1, 0, -1, 0, 0, 0],\n",
    "                [0, 0, -1, 0, -1, 0, 0],\n",
    "                [0, 0, 0, -1, 0, -1, 0],\n",
    "                [0, 0, 0, 0, -1, 0, -1],\n",
    "                [0, 0, 0, 0, 0, -1, 0]])\n",
    "\n",
    "print(nx.Graph(mat))\n",
    "pos = nx.circular_layout(nx.Graph(mat))\n",
    "nx.draw(nx.Graph(mat), pos=pos, with_labels=True)\n",
    "# plt.show()"
   ],
   "metadata": {
    "collapsed": false
   }
  },
  {
   "cell_type": "code",
   "execution_count": 7,
   "outputs": [
    {
     "data": {
      "text/plain": "<Figure size 640x480 with 1 Axes>",
      "image/png": "[encoded data removed]"
     },
     "metadata": {},
     "output_type": "display_data"
    }
   ],
   "source": [
    "ex5 = np.array([[0, -1, 0, 0, -1, 0, 0, 0, 0, 0, 0, 0],\n",
    "                [-1, 0, 0, -1, 0, 0, 0, 0, 0, 0, 0, 0],\n",
    "                [0, 0, 0, -1, 0, -1, 0, 0, 0, 0, 0, 0],\n",
    "                [0, -1, -1, 0, 0, 0, 0, -1, 0, 0, 0, 0],\n",
    "                [-1, 0, 0, 0, 0, -1, 0, 0, -1, 0, 0, 0],\n",
    "                [0, 0, -1, 0, -1, 0, -1, 0, -1, 0, -1, 0],\n",
    "                [0, 0, 0, 0, 0, -1, 0, 0, 0, 0, 0, -1],\n",
    "                [0, 0, 0, -1, 0, 0, 0, 0, 0, 0, 0, -1],\n",
    "                [0, 0, 0, 0, -1, -1, 0, 0, 0, -1, 0, 0],\n",
    "                [0, 0, 0, 0, 0, 0, 0, 0, -1, 0, 0, 0],\n",
    "                [0, 0, 0, 0, 0, -1, 0, 0, 0, 0, 0, -1],\n",
    "                [0, 0, 0, 0, 0, 0, -1, -1, 0, 0, -1, 0]])\n",
    "# put 0s on the diagonals of ex5 and make its entries nonnegative\n",
    "ex0 = ex5 - np.diag(ex5.diagonal())\n",
    "ex0 = -ex0\n",
    "\n",
    "pos = nx.circular_layout(nx.Graph(ex0))\n",
    "nx.draw(nx.Graph(ex0), pos=pos, with_labels=True)"
   ],
   "metadata": {
    "collapsed": false
   }
  },
  {
   "cell_type": "code",
   "execution_count": 12,
   "outputs": [
    {
     "name": "stdout",
     "output_type": "stream",
     "text": [
      "[1. 0. 0. 0. 0. 1. 0. 0. 0. 0. 0. 0.]\n",
      "[False False  True  True  True False  True  True  True  True  True  True]\n"
     ]
    }
   ],
   "source": [
    "test = np.zeros((12, 2))\n",
    "test[0, 0] = 1\n",
    "test[1, 1] = 1\n",
    "test[5, 0] = 1\n",
    "mask = test[:, 0] == 0\n",
    "print(test[:, 0])\n",
    "mask &= test[:, 1] == 0\n",
    "print(mask)"
   ],
   "metadata": {
    "collapsed": false
   }
  },
  {
   "cell_type": "code",
   "execution_count": 13,
   "outputs": [],
   "source": [
    "import numpy as np\n",
    "\n",
    "def asvoid(arr):\n",
    "    \"\"\"View the array as dtype np.void (bytes)\n",
    "    This collapses ND-arrays to 1D-arrays, so you can perform 1D operations on them.\n",
    "    https://stackoverflow.com/a/16216866/190597 (Jaime)\"\"\"\n",
    "    arr = np.ascontiguousarray(arr)\n",
    "    return arr.view(np.dtype((np.void, arr.dtype.itemsize * arr.shape[-1])))\n",
    "\n",
    "def find_index(arr, x):\n",
    "    arr_as1d = asvoid(arr)\n",
    "    x = asvoid(x)\n",
    "    return np.nonzero(arr_as1d == x)[0]\n",
    "\n",
    "\n"
   ],
   "metadata": {
    "collapsed": false
   }
  },
  {
   "cell_type": "code",
   "execution_count": 14,
   "outputs": [
    {
     "name": "stdout",
     "output_type": "stream",
     "text": [
      "[      3      10      17 ... 8550398 8550405 8550412]\n"
     ]
    }
   ],
   "source": [
    "arr = np.array([[  1,  15,   0,   0],\n",
    "                [ 30,  10,   0,   0],\n",
    "                [ 30,  20,   0,   0],\n",
    "                [1, 2, 3, 4],\n",
    "                [104, 139, 146,  75],\n",
    "                [  9,  11, 146,  74],\n",
    "                [  9, 138, 146,  75]], dtype='uint8')\n",
    "\n",
    "arr = np.tile(arr,(1221488,1))\n",
    "x = np.array([1,2,3,4], dtype='uint8')\n",
    "\n",
    "print(find_index(arr, x))"
   ],
   "metadata": {
    "collapsed": false
   }
  },
  {
   "cell_type": "code",
   "execution_count": 57,
   "outputs": [
    {
     "name": "stdout",
     "output_type": "stream",
     "text": [
      "[[424. 669. 182. 499.]\n",
      " [218. 179. 278. 497.]\n",
      " [410. 650. 211. 345.]\n",
      " ...\n",
      " [294. 735. 233. 197.]\n",
      " [735. 384. 717.  67.]\n",
      " [596.  78. 271.  81.]]\n",
      "2592363\n",
      "float64\n",
      "[2592363]\n"
     ]
    }
   ],
   "source": [
    "rando = np.random.randint(0, 8550420)\n",
    "split = 8550420 - rando\n",
    "\n",
    "rando_arr = np.random.randint(0, 1000, size=(rando, 4))\n",
    "split_arr = np.random.randint(0, 1000, size=(split, 4))\n",
    "\n",
    "rando_arr = np.concatenate((rando_arr, [[1, 2, 3, 4.5]]), axis=0)\n",
    "\n",
    "arr = np.concatenate((rando_arr, split_arr), axis=0)\n",
    "print(arr)\n",
    "print(rando)\n",
    "x = np.array([1,2,3,4.5], dtype='float64')\n",
    "arr = np.array(arr, dtype='float64')\n",
    "print(arr.dtype)\n",
    "print(find_index(arr, x))"
   ],
   "metadata": {
    "collapsed": false
   }
  }
 ],
 "metadata": {
  "kernelspec": {
   "display_name": "Python 3",
   "language": "python",
   "name": "python3"
  },
  "language_info": {
   "codemirror_mode": {
    "name": "ipython",
    "version": 2
   },
   "file_extension": ".py",
   "mimetype": "text/x-python",
   "name": "python",
   "nbconvert_exporter": "python",
   "pygments_lexer": "ipython2",
   "version": "2.7.6"
  }
 },
 "nbformat": 4,
 "nbformat_minor": 0
}
